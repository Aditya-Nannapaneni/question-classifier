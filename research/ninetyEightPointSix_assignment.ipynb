{
 "cells": [
  {
   "cell_type": "code",
   "execution_count": 1,
   "metadata": {},
   "outputs": [],
   "source": [
    "#importing necessary packages\n",
    "import pandas as pd\n",
    "import numpy as np\n",
    "import matplotlib.pyplot as plt\n",
    "import re, nltk\n",
    "\n",
    "#import gensim\n",
    "#import codecs\n",
    "#from sner import Ner\n",
    "import spacy\n",
    "from sklearn.metrics import confusion_matrix, accuracy_score, average_precision_score\n",
    "from sklearn.model_selection import KFold, StratifiedKFold, cross_val_score, GridSearchCV\n",
    "from sklearn.feature_extraction.text import CountVectorizer, TfidfVectorizer\n",
    "#from nltk.internals import find_jars_within_path\n",
    "#from nltk.tag import StanfordPOSTagger\n",
    "#from nltk.tag import StanfordNERTagger\n",
    "\n",
    "from sklearn import linear_model\n",
    "from sklearn import svm\n",
    "from sklearn.metrics import fbeta_score, accuracy_score\n",
    "from scipy.sparse import hstack"
   ]
  },
  {
   "cell_type": "code",
   "execution_count": 2,
   "metadata": {},
   "outputs": [],
   "source": [
    "#function to load the dataset\n",
    "def load(path: str) -> pd.DataFrame:\n",
    "    rows = []\n",
    "\n",
    "    with open(path, \"r\", encoding=\"latin-1\") as data_in:\n",
    "        for line in data_in:\n",
    "            fine_category, input = line.split(None, 1)\n",
    "            coarse_category, _ = fine_category.split(\":\")\n",
    "\n",
    "            rows.append({\n",
    "                \"question\": input.strip(),\n",
    "                \"fine_category\": fine_category,\n",
    "                \"coarse_category\": coarse_category\n",
    "            })\n",
    "\n",
    "    return pd.DataFrame(rows)"
   ]
  },
  {
   "cell_type": "code",
   "execution_count": 3,
   "metadata": {},
   "outputs": [],
   "source": [
    "train = load('homework_research_scientist/data/train_5500.label.txt')\n",
    "test = load('homework_research_scientist/data/test_TREC_10.label.txt')"
   ]
  },
  {
   "cell_type": "code",
   "execution_count": 4,
   "metadata": {},
   "outputs": [
    {
     "data": {
      "text/html": [
       "<div>\n",
       "<style scoped>\n",
       "    .dataframe tbody tr th:only-of-type {\n",
       "        vertical-align: middle;\n",
       "    }\n",
       "\n",
       "    .dataframe tbody tr th {\n",
       "        vertical-align: top;\n",
       "    }\n",
       "\n",
       "    .dataframe thead th {\n",
       "        text-align: right;\n",
       "    }\n",
       "</style>\n",
       "<table border=\"1\" class=\"dataframe\">\n",
       "  <thead>\n",
       "    <tr style=\"text-align: right;\">\n",
       "      <th></th>\n",
       "      <th>question</th>\n",
       "      <th>fine_category</th>\n",
       "      <th>coarse_category</th>\n",
       "    </tr>\n",
       "  </thead>\n",
       "  <tbody>\n",
       "    <tr>\n",
       "      <th>0</th>\n",
       "      <td>How did serfdom develop in and then leave Russ...</td>\n",
       "      <td>DESC:manner</td>\n",
       "      <td>DESC</td>\n",
       "    </tr>\n",
       "    <tr>\n",
       "      <th>1</th>\n",
       "      <td>What films featured the character Popeye Doyle ?</td>\n",
       "      <td>ENTY:cremat</td>\n",
       "      <td>ENTY</td>\n",
       "    </tr>\n",
       "    <tr>\n",
       "      <th>2</th>\n",
       "      <td>How can I find a list of celebrities ' real na...</td>\n",
       "      <td>DESC:manner</td>\n",
       "      <td>DESC</td>\n",
       "    </tr>\n",
       "    <tr>\n",
       "      <th>3</th>\n",
       "      <td>What fowl grabs the spotlight after the Chines...</td>\n",
       "      <td>ENTY:animal</td>\n",
       "      <td>ENTY</td>\n",
       "    </tr>\n",
       "    <tr>\n",
       "      <th>4</th>\n",
       "      <td>What is the full form of .com ?</td>\n",
       "      <td>ABBR:exp</td>\n",
       "      <td>ABBR</td>\n",
       "    </tr>\n",
       "  </tbody>\n",
       "</table>\n",
       "</div>"
      ],
      "text/plain": [
       "                                            question fine_category  \\\n",
       "0  How did serfdom develop in and then leave Russ...   DESC:manner   \n",
       "1   What films featured the character Popeye Doyle ?   ENTY:cremat   \n",
       "2  How can I find a list of celebrities ' real na...   DESC:manner   \n",
       "3  What fowl grabs the spotlight after the Chines...   ENTY:animal   \n",
       "4                    What is the full form of .com ?      ABBR:exp   \n",
       "\n",
       "  coarse_category  \n",
       "0            DESC  \n",
       "1            ENTY  \n",
       "2            DESC  \n",
       "3            ENTY  \n",
       "4            ABBR  "
      ]
     },
     "execution_count": 4,
     "metadata": {},
     "output_type": "execute_result"
    }
   ],
   "source": [
    "train.head()"
   ]
  },
  {
   "cell_type": "code",
   "execution_count": 5,
   "metadata": {},
   "outputs": [
    {
     "data": {
      "text/html": [
       "<div>\n",
       "<style scoped>\n",
       "    .dataframe tbody tr th:only-of-type {\n",
       "        vertical-align: middle;\n",
       "    }\n",
       "\n",
       "    .dataframe tbody tr th {\n",
       "        vertical-align: top;\n",
       "    }\n",
       "\n",
       "    .dataframe thead th {\n",
       "        text-align: right;\n",
       "    }\n",
       "</style>\n",
       "<table border=\"1\" class=\"dataframe\">\n",
       "  <thead>\n",
       "    <tr style=\"text-align: right;\">\n",
       "      <th></th>\n",
       "      <th>question</th>\n",
       "      <th>fine_category</th>\n",
       "      <th>coarse_category</th>\n",
       "    </tr>\n",
       "  </thead>\n",
       "  <tbody>\n",
       "    <tr>\n",
       "      <th>count</th>\n",
       "      <td>5452</td>\n",
       "      <td>5452</td>\n",
       "      <td>5452</td>\n",
       "    </tr>\n",
       "    <tr>\n",
       "      <th>unique</th>\n",
       "      <td>5381</td>\n",
       "      <td>50</td>\n",
       "      <td>6</td>\n",
       "    </tr>\n",
       "    <tr>\n",
       "      <th>top</th>\n",
       "      <td>How deep is a fathom ?</td>\n",
       "      <td>HUM:ind</td>\n",
       "      <td>ENTY</td>\n",
       "    </tr>\n",
       "    <tr>\n",
       "      <th>freq</th>\n",
       "      <td>3</td>\n",
       "      <td>962</td>\n",
       "      <td>1250</td>\n",
       "    </tr>\n",
       "  </tbody>\n",
       "</table>\n",
       "</div>"
      ],
      "text/plain": [
       "                      question fine_category coarse_category\n",
       "count                     5452          5452            5452\n",
       "unique                    5381            50               6\n",
       "top     How deep is a fathom ?       HUM:ind            ENTY\n",
       "freq                         3           962            1250"
      ]
     },
     "execution_count": 5,
     "metadata": {},
     "output_type": "execute_result"
    }
   ],
   "source": [
    "train.describe()"
   ]
  },
  {
   "cell_type": "code",
   "execution_count": 6,
   "metadata": {},
   "outputs": [
    {
     "data": {
      "text/html": [
       "<div>\n",
       "<style scoped>\n",
       "    .dataframe tbody tr th:only-of-type {\n",
       "        vertical-align: middle;\n",
       "    }\n",
       "\n",
       "    .dataframe tbody tr th {\n",
       "        vertical-align: top;\n",
       "    }\n",
       "\n",
       "    .dataframe thead th {\n",
       "        text-align: right;\n",
       "    }\n",
       "</style>\n",
       "<table border=\"1\" class=\"dataframe\">\n",
       "  <thead>\n",
       "    <tr style=\"text-align: right;\">\n",
       "      <th></th>\n",
       "      <th>question</th>\n",
       "      <th>fine_category</th>\n",
       "      <th>coarse_category</th>\n",
       "    </tr>\n",
       "  </thead>\n",
       "  <tbody>\n",
       "    <tr>\n",
       "      <th>0</th>\n",
       "      <td>How far is it from Denver to Aspen ?</td>\n",
       "      <td>NUM:dist</td>\n",
       "      <td>NUM</td>\n",
       "    </tr>\n",
       "    <tr>\n",
       "      <th>1</th>\n",
       "      <td>What county is Modesto , California in ?</td>\n",
       "      <td>LOC:city</td>\n",
       "      <td>LOC</td>\n",
       "    </tr>\n",
       "    <tr>\n",
       "      <th>2</th>\n",
       "      <td>Who was Galileo ?</td>\n",
       "      <td>HUM:desc</td>\n",
       "      <td>HUM</td>\n",
       "    </tr>\n",
       "    <tr>\n",
       "      <th>3</th>\n",
       "      <td>What is an atom ?</td>\n",
       "      <td>DESC:def</td>\n",
       "      <td>DESC</td>\n",
       "    </tr>\n",
       "    <tr>\n",
       "      <th>4</th>\n",
       "      <td>When did Hawaii become a state ?</td>\n",
       "      <td>NUM:date</td>\n",
       "      <td>NUM</td>\n",
       "    </tr>\n",
       "  </tbody>\n",
       "</table>\n",
       "</div>"
      ],
      "text/plain": [
       "                                   question fine_category coarse_category\n",
       "0      How far is it from Denver to Aspen ?      NUM:dist             NUM\n",
       "1  What county is Modesto , California in ?      LOC:city             LOC\n",
       "2                         Who was Galileo ?      HUM:desc             HUM\n",
       "3                         What is an atom ?      DESC:def            DESC\n",
       "4          When did Hawaii become a state ?      NUM:date             NUM"
      ]
     },
     "execution_count": 6,
     "metadata": {},
     "output_type": "execute_result"
    }
   ],
   "source": [
    "test.head()"
   ]
  },
  {
   "cell_type": "code",
   "execution_count": 7,
   "metadata": {},
   "outputs": [
    {
     "data": {
      "text/html": [
       "<div>\n",
       "<style scoped>\n",
       "    .dataframe tbody tr th:only-of-type {\n",
       "        vertical-align: middle;\n",
       "    }\n",
       "\n",
       "    .dataframe tbody tr th {\n",
       "        vertical-align: top;\n",
       "    }\n",
       "\n",
       "    .dataframe thead th {\n",
       "        text-align: right;\n",
       "    }\n",
       "</style>\n",
       "<table border=\"1\" class=\"dataframe\">\n",
       "  <thead>\n",
       "    <tr style=\"text-align: right;\">\n",
       "      <th></th>\n",
       "      <th>question</th>\n",
       "      <th>fine_category</th>\n",
       "      <th>coarse_category</th>\n",
       "    </tr>\n",
       "  </thead>\n",
       "  <tbody>\n",
       "    <tr>\n",
       "      <th>count</th>\n",
       "      <td>500</td>\n",
       "      <td>500</td>\n",
       "      <td>500</td>\n",
       "    </tr>\n",
       "    <tr>\n",
       "      <th>unique</th>\n",
       "      <td>500</td>\n",
       "      <td>42</td>\n",
       "      <td>6</td>\n",
       "    </tr>\n",
       "    <tr>\n",
       "      <th>top</th>\n",
       "      <td>What is the population of Seattle ?</td>\n",
       "      <td>DESC:def</td>\n",
       "      <td>DESC</td>\n",
       "    </tr>\n",
       "    <tr>\n",
       "      <th>freq</th>\n",
       "      <td>1</td>\n",
       "      <td>123</td>\n",
       "      <td>138</td>\n",
       "    </tr>\n",
       "  </tbody>\n",
       "</table>\n",
       "</div>"
      ],
      "text/plain": [
       "                                   question fine_category coarse_category\n",
       "count                                   500           500             500\n",
       "unique                                  500            42               6\n",
       "top     What is the population of Seattle ?      DESC:def            DESC\n",
       "freq                                      1           123             138"
      ]
     },
     "execution_count": 7,
     "metadata": {},
     "output_type": "execute_result"
    }
   ],
   "source": [
    "test.describe()"
   ]
  },
  {
   "cell_type": "markdown",
   "metadata": {},
   "source": [
    "# Observations\n",
    "\n",
    "- Train set contains 71 duplicates\n",
    "- 50 unique fine_category classes in train and only 42 in test, a potential reason for low model performance."
   ]
  },
  {
   "cell_type": "code",
   "execution_count": 8,
   "metadata": {},
   "outputs": [],
   "source": [
    "#training encoders to encode out class labels\n",
    "from sklearn.preprocessing import LabelEncoder\n",
    "le_coarse = LabelEncoder()\n",
    "le_coarse.fit(pd.Series(train.coarse_category.tolist() + test.coarse_category.tolist()).values)\n",
    "train['coarse_category'] = le_coarse.transform(train.coarse_category.values)\n",
    "test['coarse_category'] = le_coarse.transform(test.coarse_category.values)\n",
    "\n",
    "le_fine = LabelEncoder()\n",
    "le_fine.fit(pd.Series(train.fine_category.tolist() + test.fine_category.tolist()).values)\n",
    "train['fine_category'] = le_fine.transform(train.fine_category.values)\n",
    "test['fine_category'] = le_fine.transform(test.fine_category.values)"
   ]
  },
  {
   "cell_type": "code",
   "execution_count": 9,
   "metadata": {},
   "outputs": [],
   "source": [
    "#corpus of all the data we have, train and test\n",
    "def get_all_corpus(train:pd.DataFrame, test:pd.DataFrame, field_name: str):\n",
    "    '''\n",
    "    AIM: to get all the text data we have into a pandas object\n",
    "    INPUT: training and test dataframes\n",
    "    OUTPUT: pandas object containing all the text data \n",
    "    '''\n",
    "    \n",
    "    return pd.Series(train[field_name].tolist() + test[field_name].tolist()).astype(str)    "
   ]
  },
  {
   "cell_type": "code",
   "execution_count": 10,
   "metadata": {},
   "outputs": [],
   "source": [
    "all_corpus = get_all_corpus(train, test, 'question')"
   ]
  },
  {
   "cell_type": "code",
   "execution_count": 11,
   "metadata": {},
   "outputs": [
    {
     "name": "stderr",
     "output_type": "stream",
     "text": [
      "[nltk_data] Downloading package stopwords to\n",
      "[nltk_data]     /Users/adityanannapaneni/nltk_data...\n",
      "[nltk_data]   Package stopwords is already up-to-date!\n",
      "[nltk_data] Downloading package wordnet to\n",
      "[nltk_data]     /Users/adityanannapaneni/nltk_data...\n",
      "[nltk_data]   Package wordnet is already up-to-date!\n"
     ]
    }
   ],
   "source": [
    "nltk.download('stopwords')\n",
    "nltk.download('wordnet')\n",
    "from nltk.corpus import stopwords\n",
    "from nltk.stem.porter import PorterStemmer \n",
    "from nltk.stem.snowball import SnowballStemmer\n",
    "from nltk.stem.wordnet import WordNetLemmatizer"
   ]
  },
  {
   "cell_type": "code",
   "execution_count": 12,
   "metadata": {},
   "outputs": [],
   "source": [
    "def text_clean(corpus, keep_list):\n",
    "    '''\n",
    "    AIM : Function to keep only alphabets, digits and certain words (punctuations, qmarks, tabs etc. removed)\n",
    "    \n",
    "    INPUT : Takes a text corpus, 'corpus' to be cleaned along with a list of words, 'keep_list', which have to be retained\n",
    "            even after the cleaning process\n",
    "    \n",
    "    OUTPUT : Returns the cleaned text corpus\n",
    "    \n",
    "    '''\n",
    "    cleaned_corpus = pd.Series()\n",
    "    for row in corpus:\n",
    "        qs = []\n",
    "        for word in row.split():\n",
    "            if word not in keep_list:\n",
    "                p1 = re.sub(pattern='[^a-zA-Z0-9]',repl=' ',string=word)\n",
    "                p1 = p1.lower()\n",
    "                qs.append(p1)\n",
    "            else : qs.append(word)\n",
    "        cleaned_corpus = cleaned_corpus.append(pd.Series(' '.join(qs)))\n",
    "    return cleaned_corpus"
   ]
  },
  {
   "cell_type": "code",
   "execution_count": 13,
   "metadata": {},
   "outputs": [],
   "source": [
    "def preprocess(corpus, keep_list, cleaning = True, stemming = False, stem_type = None, lemmatization = False, remove_stopwords = True):\n",
    "    \n",
    "    '''\n",
    "    AIM : Function to perform all pre-processing tasks (cleaning, stemming, lemmatization, stopwords removal etc.)\n",
    "    \n",
    "    Input : \n",
    "    'corpus' - Text corpus on which pre-processing tasks will be performed\n",
    "    'keep_list' - List of words to be retained during cleaning process\n",
    "    'cleaning', 'stemming', 'lemmatization', 'remove_stopwords' - Boolean variables indicating whether a particular task should \n",
    "                                                                  be performed or not\n",
    "    'stem_type' - Choose between Porter stemmer or Snowball(Porter2) stemmer. Default is \"None\", which corresponds to Porter\n",
    "                  Stemmer. 'snowball' corresponds to Snowball Stemmer\n",
    "    \n",
    "    Note : Either stemming or lemmatization should be used. There's no benefit of using both of them together\n",
    "    \n",
    "    Output : Returns the processed text corpus\n",
    "    \n",
    "    '''\n",
    "    if cleaning == True:\n",
    "        corpus = text_clean(corpus, keep_list)\n",
    "    \n",
    "    if remove_stopwords == True:\n",
    "        wh_words = ['who', 'what', 'when', 'why', 'how', 'which', 'where', 'whom']\n",
    "        stop = set(stopwords.words('english'))\n",
    "        for word in wh_words:\n",
    "            stop.remove(word)\n",
    "        corpus = [[x for x in x.split() if x not in stop] for x in corpus]\n",
    "    else :\n",
    "        corpus = [[x for x in x.split()] for x in corpus]\n",
    "    \n",
    "    if lemmatization == True:\n",
    "        lem = WordNetLemmatizer()\n",
    "        corpus = [[lem.lemmatize(x, pos = 'v') for x in x] for x in corpus]\n",
    "    \n",
    "    if stemming == True:\n",
    "        if stem_type == 'snowball':\n",
    "            stemmer = SnowballStemmer(language = 'english')\n",
    "            corpus = [[stemmer.stem(x) for x in x] for x in corpus]\n",
    "        else :\n",
    "            stemmer = PorterStemmer()\n",
    "            corpus = [[stemmer.stem(x) for x in x] for x in corpus]\n",
    "    \n",
    "    corpus = [' '.join(x) for x in corpus]\n",
    "        \n",
    "\n",
    "    return corpus"
   ]
  },
  {
   "cell_type": "code",
   "execution_count": 14,
   "metadata": {},
   "outputs": [
    {
     "name": "stderr",
     "output_type": "stream",
     "text": [
      "/Users/adityanannapaneni/anaconda3/lib/python3.7/site-packages/ipykernel_launcher.py:11: DeprecationWarning: The default dtype for empty Series will be 'object' instead of 'float64' in a future version. Specify a dtype explicitly to silence this warning.\n",
      "  # This is added back by InteractiveShellApp.init_path()\n"
     ]
    }
   ],
   "source": [
    "common_dot_words = ['U.S.', 'St.', 'Mr.', 'Mrs.', 'D.C.']\n",
    "all_corpus = preprocess(all_corpus, keep_list = common_dot_words, remove_stopwords = True)"
   ]
  },
  {
   "cell_type": "code",
   "execution_count": 15,
   "metadata": {},
   "outputs": [
    {
     "name": "stdout",
     "output_type": "stream",
     "text": [
      "how serfdom develop leave russia\n"
     ]
    }
   ],
   "source": [
    "print(all_corpus[0])"
   ]
  },
  {
   "cell_type": "markdown",
   "metadata": {},
   "source": [
    "# Splitting into train and test"
   ]
  },
  {
   "cell_type": "code",
   "execution_count": 16,
   "metadata": {},
   "outputs": [],
   "source": [
    "train_corpus = all_corpus[0:train.shape[0]]\n",
    "test_corpus = all_corpus[train.shape[0]:]"
   ]
  },
  {
   "cell_type": "code",
   "execution_count": 181,
   "metadata": {},
   "outputs": [],
   "source": [
    "import en_core_web_sm\n",
    "nlp = en_core_web_sm.load()\n",
    "\n",
    "#nlp = spacy.load('en_core_web_sm')"
   ]
  },
  {
   "cell_type": "code",
   "execution_count": 18,
   "metadata": {},
   "outputs": [],
   "source": [
    "#function to get ner, lemmas, POS tags, syntactic dependency relation and orthographic features\n",
    "def get_nlp_features(data:list):\n",
    "    '''\n",
    "    AIM: to featurize the data and extract ner, pos tags, lemmas, dependencies, orthographic features\n",
    "    INPUT: data to featurize \n",
    "    OUTPUT: lists containing the specified features\n",
    "    '''\n",
    "    ners = []\n",
    "    lemmas = []\n",
    "    tags = []\n",
    "    deps = []\n",
    "    shapes = []\n",
    "    \n",
    "    for row in data:\n",
    "        doc = nlp(row)\n",
    "        ner = []\n",
    "        lemma = []\n",
    "        tag = []\n",
    "        dep = []\n",
    "        shape = []\n",
    "        \n",
    "        for token in doc:\n",
    "            lemma.append(token.lemma_)\n",
    "            tag.append(token.tag_)\n",
    "            dep.append(token.dep_)\n",
    "            shape.append(token.shape_)\n",
    "        lemmas.append(\" \".join(lemma))\n",
    "        tags.append(\" \".join(tag))\n",
    "        deps.append(\" \".join(dep))\n",
    "        shapes.append(\" \".join(shape))\n",
    "        \n",
    "        for ent in doc.ents:\n",
    "            ner.append(ent.label_)\n",
    "        ners.append(\" \".join(ner))\n",
    "    return [ners, lemmas, tags, deps, shapes]    "
   ]
  },
  {
   "cell_type": "code",
   "execution_count": 19,
   "metadata": {},
   "outputs": [],
   "source": [
    "train_features = get_nlp_features(train_corpus)"
   ]
  },
  {
   "cell_type": "code",
   "execution_count": 20,
   "metadata": {},
   "outputs": [
    {
     "data": {
      "text/plain": [
       "5452"
      ]
     },
     "execution_count": 20,
     "metadata": {},
     "output_type": "execute_result"
    }
   ],
   "source": [
    "len(train_features[0])"
   ]
  },
  {
   "cell_type": "code",
   "execution_count": 21,
   "metadata": {},
   "outputs": [],
   "source": [
    "#converting the feeatures into vectors, could experiment with different ngram ranges\n",
    "\n",
    "def train_vectorizers(features:list):\n",
    "    '''\n",
    "    AIM: trains Countvectorizers pertaining to the relavant feature\n",
    "    INPUT: list of features to convert\n",
    "    OUTPUT: vectors representing each of the features\n",
    "    '''\n",
    "    count_vec_ner = CountVectorizer(ngram_range=(1,2)).fit(features[0])\n",
    "    count_vec_lemma = CountVectorizer(ngram_range=(1,2)).fit(features[1])\n",
    "    count_vec_tags = CountVectorizer(ngram_range=(1,2)).fit(features[2])\n",
    "    count_vec_deps = CountVectorizer(ngram_range=(1,2)).fit(features[3])\n",
    "    count_vec_shapes = CountVectorizer(ngram_range=(1,2)).fit(features[4])\n",
    "    \n",
    "    return count_vec_ner, count_vec_lemma, count_vec_tags, count_vec_shapes\n",
    "\n",
    "        "
   ]
  },
  {
   "cell_type": "code",
   "execution_count": 22,
   "metadata": {},
   "outputs": [],
   "source": [
    "count_vec_ner, count_vec_lemma, count_vec_tags, count_vec_shapes = train_vectorizers(train_features)\n",
    "count_vecs = [count_vec_ner, count_vec_lemma, count_vec_tags, count_vec_shapes]"
   ]
  },
  {
   "cell_type": "code",
   "execution_count": 23,
   "metadata": {},
   "outputs": [],
   "source": [
    "def vectorize_features(count_vecs, features):\n",
    "    '''\n",
    "    AIM: transforms features into vectors by applying trained countvectorizers\n",
    "    INPUT: list of countvectorizer and list of features\n",
    "    OUTPUT: list of vectorized features\n",
    "    '''\n",
    "    vectorized_features = []\n",
    "    for vec, feature in zip(count_vecs, features):\n",
    "        vec_ft = vec.transform(feature)\n",
    "        vectorized_features.append(vec_ft)\n",
    "    return vectorized_features"
   ]
  },
  {
   "cell_type": "code",
   "execution_count": 24,
   "metadata": {},
   "outputs": [],
   "source": [
    "training_features = vectorize_features(count_vecs, train_features)"
   ]
  },
  {
   "cell_type": "code",
   "execution_count": 25,
   "metadata": {},
   "outputs": [
    {
     "data": {
      "text/plain": [
       "[<5452x52 sparse matrix of type '<class 'numpy.int64'>'\n",
       " \twith 1519 stored elements in Compressed Sparse Row format>,\n",
       " <5452x26732 sparse matrix of type '<class 'numpy.int64'>'\n",
       " \twith 55872 stored elements in Compressed Sparse Row format>,\n",
       " <5452x461 sparse matrix of type '<class 'numpy.int64'>'\n",
       " \twith 45029 stored elements in Compressed Sparse Row format>,\n",
       " <5452x81 sparse matrix of type '<class 'numpy.int64'>'\n",
       " \twith 0 stored elements in Compressed Sparse Row format>]"
      ]
     },
     "execution_count": 25,
     "metadata": {},
     "output_type": "execute_result"
    }
   ],
   "source": [
    "training_features"
   ]
  },
  {
   "cell_type": "code",
   "execution_count": 26,
   "metadata": {},
   "outputs": [],
   "source": [
    "#Converting from COOrdinate format to Compressed Sparse Row format for easier mathematical computations."
   ]
  },
  {
   "cell_type": "code",
   "execution_count": 27,
   "metadata": {},
   "outputs": [],
   "source": [
    "def wrangle_features(features):\n",
    "    #combining all features into 1 matrix and into compresses sparse row format\n",
    "    #for easier computations\n",
    "    \n",
    "    return hstack(features).tocsr()\n",
    "    "
   ]
  },
  {
   "cell_type": "code",
   "execution_count": 28,
   "metadata": {},
   "outputs": [],
   "source": [
    "training_features = wrangle_features(training_features)"
   ]
  },
  {
   "cell_type": "code",
   "execution_count": 29,
   "metadata": {},
   "outputs": [
    {
     "data": {
      "text/plain": [
       "<5452x27326 sparse matrix of type '<class 'numpy.int64'>'\n",
       "\twith 102420 stored elements in Compressed Sparse Row format>"
      ]
     },
     "execution_count": 29,
     "metadata": {},
     "output_type": "execute_result"
    }
   ],
   "source": [
    "training_features"
   ]
  },
  {
   "cell_type": "code",
   "execution_count": 30,
   "metadata": {},
   "outputs": [],
   "source": [
    "# getting test features using the trained countvecs\n",
    "test_features = get_nlp_features(test_corpus)\n",
    "testing_features = vectorize_features(count_vecs, test_features)"
   ]
  },
  {
   "cell_type": "code",
   "execution_count": 31,
   "metadata": {},
   "outputs": [],
   "source": [
    "testing_features = wrangle_features(testing_features)"
   ]
  },
  {
   "cell_type": "code",
   "execution_count": 32,
   "metadata": {},
   "outputs": [
    {
     "data": {
      "text/plain": [
       "<500x27326 sparse matrix of type '<class 'numpy.int64'>'\n",
       "\twith 5272 stored elements in Compressed Sparse Row format>"
      ]
     },
     "execution_count": 32,
     "metadata": {},
     "output_type": "execute_result"
    }
   ],
   "source": [
    "testing_features"
   ]
  },
  {
   "cell_type": "code",
   "execution_count": 33,
   "metadata": {},
   "outputs": [],
   "source": [
    "# Model training\n",
    "model_coarse = svm.LinearSVC()\n",
    "model_fine = svm.LinearSVC()"
   ]
  },
  {
   "cell_type": "code",
   "execution_count": 34,
   "metadata": {},
   "outputs": [
    {
     "data": {
      "text/plain": [
       "LinearSVC()"
      ]
     },
     "execution_count": 34,
     "metadata": {},
     "output_type": "execute_result"
    }
   ],
   "source": [
    "model_coarse.fit(training_features, train['coarse_category'].values)\n",
    "model_fine.fit(training_features, train['fine_category'])"
   ]
  },
  {
   "cell_type": "code",
   "execution_count": 35,
   "metadata": {},
   "outputs": [],
   "source": [
    "# Model Evaluation\n",
    "preds_coarse = model_coarse.predict(testing_features)\n",
    "preds_fine = model_fine.predict(testing_features)"
   ]
  },
  {
   "cell_type": "code",
   "execution_count": 196,
   "metadata": {},
   "outputs": [
    {
     "name": "stdout",
     "output_type": "stream",
     "text": [
      "87.8\n",
      "81.6\n"
     ]
    }
   ],
   "source": [
    "print(accuracy_score(test['coarse_category'].values, preds_coarse)*100)\n",
    "print(accuracy_score(test['fine_category'].values, preds_fine)*100)"
   ]
  },
  {
   "cell_type": "code",
   "execution_count": 37,
   "metadata": {},
   "outputs": [],
   "source": [
    "def plot_confusion_matrix(cm, classes,\n",
    "                          normalize=False,\n",
    "                          title='Confusion matrix',\n",
    "                          cmap=plt.cm.Blues):\n",
    "    \"\"\"\n",
    "    This function prints and plots the confusion matrix.\n",
    "    Normalization can be applied by setting `normalize=True`.\n",
    "    \"\"\"\n",
    "    import itertools\n",
    "    if normalize:\n",
    "        cm = cm.astype('float') / cm.sum(axis=1)[:, np.newaxis]\n",
    "        print(\"Normalized confusion matrix\")\n",
    "    else:\n",
    "        print('Confusion matrix, without normalization')\n",
    "\n",
    "    print(cm)\n",
    "\n",
    "    plt.imshow(cm, interpolation='nearest', cmap=cmap)\n",
    "    plt.title(title)\n",
    "    plt.colorbar()\n",
    "    tick_marks = np.arange(len(classes))\n",
    "    plt.xticks(tick_marks, classes, rotation=45)\n",
    "    plt.yticks(tick_marks, classes)\n",
    "\n",
    "    fmt = '.2f' if normalize else 'd'\n",
    "    thresh = cm.max() / 2.\n",
    "    for i, j in itertools.product(range(cm.shape[0]), range(cm.shape[1])):\n",
    "        plt.text(j, i, format(cm[i, j], fmt),\n",
    "                 horizontalalignment=\"center\",\n",
    "                 color=\"white\" if cm[i, j] > thresh else \"black\")\n",
    "\n",
    "    plt.ylabel('True label')\n",
    "    plt.xlabel('Predicted label')\n",
    "    plt.tight_layout()"
   ]
  },
  {
   "cell_type": "code",
   "execution_count": 38,
   "metadata": {},
   "outputs": [
    {
     "name": "stdout",
     "output_type": "stream",
     "text": [
      "Confusion matrix, without normalization\n",
      "[[  7   2   0   0   0   0]\n",
      " [  0 136   1   1   0   0]\n",
      " [  0  16  66   9   3   0]\n",
      " [  0   3   0  61   1   0]\n",
      " [  0   8   3   0  70   0]\n",
      " [  0  10   1   0   3  99]]\n"
     ]
    },
    {
     "data": {
      "image/png": "[encoded data removed]",
      "text/plain": [
       "<Figure size 432x288 with 2 Axes>"
      ]
     },
     "metadata": {
      "needs_background": "light"
     },
     "output_type": "display_data"
    }
   ],
   "source": [
    "cnf_matrix = confusion_matrix(test['coarse_category'], preds_coarse)\n",
    "np.set_printoptions(precision=2)\n",
    "\n",
    "# Plot non-normalized confusion matrix\n",
    "plt.figure()\n",
    "plot_confusion_matrix(cnf_matrix, classes=list(le_coarse.classes_),normalize=False,\n",
    "                      title='Confusion matrix, without normalization')"
   ]
  },
  {
   "cell_type": "code",
   "execution_count": 39,
   "metadata": {},
   "outputs": [
    {
     "name": "stdout",
     "output_type": "stream",
     "text": [
      "Confusion matrix, without normalization\n",
      "[[  1   0   0 ...   0   0   0]\n",
      " [  0   6   2 ...   0   0   0]\n",
      " [  0   0 122 ...   0   0   0]\n",
      " ...\n",
      " [  0   0   1 ...   4   0   0]\n",
      " [  0   0   0 ...   0   3   0]\n",
      " [  0   0   0 ...   0   0   3]]\n"
     ]
    },
    {
     "data": {
      "image/png": "[encoded data removed]",
      "text/plain": [
       "<Figure size 1080x1080 with 2 Axes>"
      ]
     },
     "metadata": {
      "needs_background": "light"
     },
     "output_type": "display_data"
    }
   ],
   "source": [
    "cnf_matrix = confusion_matrix(test['fine_category'], preds_fine)\n",
    "np.set_printoptions(precision=2)\n",
    "plt.rcParams[\"figure.figsize\"] = (15,15)\n",
    "# Plot non-normalized confusion matrix\n",
    "plt.figure()\n",
    "plot_confusion_matrix(cnf_matrix, classes=list(le_fine.classes_),normalize=False,\n",
    "                      title='Confusion matrix, without normalization')"
   ]
  },
  {
   "cell_type": "code",
   "execution_count": 117,
   "metadata": {},
   "outputs": [],
   "source": [
    "def predict(config):\n",
    "    '''\n",
    "    AIM: to predict the class label of the question\n",
    "    INPUT: question to predict as a dict \n",
    "    OUTPUT: required class label of the question to predict\n",
    "    '''\n",
    "    if type(config) == dict:\n",
    "        question = config['text']\n",
    "        #class_label = config['class']\n",
    "        \n",
    "    text = [question]\n",
    "    processed = preprocess(text, keep_list = common_dot_words, remove_stopwords = True)\n",
    "    ques_features = get_nlp_features(processed)\n",
    "    feature_vecs = vectorize_features(count_vecs, ques_features)\n",
    "    feature_vecs = wrangle_features(feature_vecs)\n",
    "    pred = [model_coarse.predict(feature_vecs), model_fine.predict(feature_vecs)]\n",
    "    \n",
    "    return [le_coarse.inverse_transform(pred[0])[0], le_fine.inverse_transform(pred[1])[0]]\n"
   ]
  },
  {
   "cell_type": "code",
   "execution_count": 130,
   "metadata": {},
   "outputs": [
    {
     "name": "stderr",
     "output_type": "stream",
     "text": [
      "/Users/adityanannapaneni/anaconda3/lib/python3.7/site-packages/ipykernel_launcher.py:11: DeprecationWarning: The default dtype for empty Series will be 'object' instead of 'float64' in a future version. Specify a dtype explicitly to silence this warning.\n",
      "  # This is added back by InteractiveShellApp.init_path()\n"
     ]
    },
    {
     "data": {
      "text/plain": [
       "['ENTY', 'ENTY:plant']"
      ]
     },
     "execution_count": 130,
     "metadata": {},
     "output_type": "execute_result"
    }
   ],
   "source": [
    "predict({\"text\": \"What is Australia 's national flower ?\"})"
   ]
  },
  {
   "cell_type": "code",
   "execution_count": 149,
   "metadata": {},
   "outputs": [],
   "source": [
    "# Saving the model\n",
    "\n",
    "import pickle\n",
    "with open(\"model_coarse.bin\", 'wb') as f_out:\n",
    "    pickle.dump(model_coarse, f_out)\n",
    "    f_out.close()\n",
    "\n",
    "with open(\"model_fine.bin\", 'wb') as f_out:\n",
    "    pickle.dump(model_fine, f_out)\n",
    "    f_out.close()\n"
   ]
  },
  {
   "cell_type": "code",
   "execution_count": 150,
   "metadata": {},
   "outputs": [
    {
     "name": "stdout",
     "output_type": "stream",
     "text": [
      "['DESC', 'DESC:def']\n"
     ]
    },
    {
     "name": "stderr",
     "output_type": "stream",
     "text": [
      "/Users/adityanannapaneni/anaconda3/lib/python3.7/site-packages/ipykernel_launcher.py:11: DeprecationWarning: The default dtype for empty Series will be 'object' instead of 'float64' in a future version. Specify a dtype explicitly to silence this warning.\n",
      "  # This is added back by InteractiveShellApp.init_path()\n"
     ]
    }
   ],
   "source": [
    "##loading the model from the saved file\n",
    "with open('model_fine.bin', 'rb') as f_in:\n",
    "    model_fine = pickle.load(f_in)\n",
    "\n",
    "print(predict({'text':'What is cholesterol ?'}))"
   ]
  },
  {
   "cell_type": "code",
   "execution_count": 76,
   "metadata": {},
   "outputs": [],
   "source": [
    "# Saving the count vecs\n",
    "\n",
    "import pickle\n",
    "with open(\"count_vecs\", 'wb') as f_out:\n",
    "    pickle.dump(count_vecs, f_out)\n",
    "    f_out.close()"
   ]
  },
  {
   "cell_type": "code",
   "execution_count": 77,
   "metadata": {},
   "outputs": [],
   "source": [
    "# saving label encoders\n",
    "\n",
    "import pickle\n",
    "with open(\"le_coarse\", 'wb') as f_out:\n",
    "    pickle.dump(le_coarse, f_out)\n",
    "    f_out.close()\n",
    "\n",
    "with open(\"le_fine\", 'wb') as f_out:\n",
    "    pickle.dump(le_fine, f_out)\n",
    "    f_out.close()\n"
   ]
  }
 ],
 "metadata": {
  "kernelspec": {
   "display_name": "Python 3",
   "language": "python",
   "name": "python3"
  },
  "language_info": {
   "codemirror_mode": {
    "name": "ipython",
    "version": 3
   },
   "file_extension": ".py",
   "mimetype": "text/x-python",
   "name": "python",
   "nbconvert_exporter": "python",
   "pygments_lexer": "ipython3",
   "version": "3.7.3"
  }
 },
 "nbformat": 4,
 "nbformat_minor": 2
}
